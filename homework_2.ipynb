{
  "nbformat": 4,
  "nbformat_minor": 0,
  "metadata": {
    "kernelspec": {
      "display_name": "Python 3",
      "language": "python",
      "name": "python3"
    },
    "language_info": {
      "codemirror_mode": {
        "name": "ipython",
        "version": 3
      },
      "file_extension": ".py",
      "mimetype": "text/x-python",
      "name": "python",
      "nbconvert_exporter": "python",
      "pygments_lexer": "ipython3",
      "version": "3.7.7"
    },
    "colab": {
      "name": "homework 2",
      "provenance": [],
      "collapsed_sections": []
    }
  },
  "cells": [
    {
      "cell_type": "markdown",
      "metadata": {
        "id": "eBzMZqhwMd01",
        "colab_type": "text"
      },
      "source": [
        "# Homework 2: Numerical integration\n",
        "**Due Friday, April 17**\n",
        "\n",
        "Lizeth D. Romo\n",
        "\n",
        "### Homework checklist\n",
        "\n",
        "Before submitting, make sure that you\n",
        "\n",
        "- Fill in your name in the space above\n",
        "- Cite any resources that you used while working on this homework\n",
        "- 1.a. Fill in the code cell to write a function that performs integration using Simpson's rule  \n",
        "- 1.b. Run the code cell to test the function, then comment on the results below  \n",
        "- 2.a. Write your own code to evaluate the Bessel function  \n",
        "- 2.b. Run the code cell to test the function, then comment on the results below  \n",
        "- 2.c. Fill in the code block to evaluate the Bessel functions and plot the results \n",
        "\n",
        "Resource Used for HW: \n",
        "- Computational Physics Textbook http://www-personal.umich.edu/~mejn/cp/chapters.html\n",
        "- collaborate with peers"
      ]
    },
    {
      "cell_type": "markdown",
      "metadata": {
        "id": "3nFslD4bMd02",
        "colab_type": "text"
      },
      "source": [
        "## 1. Integration with Simpson's rule\n",
        "\n",
        "Write a function to perform integration using **Simpson's rule**. The input parameters to the integrator function should be:\n",
        "* A function, $f$\n",
        "* Two real numbers giving the limits of integration\n",
        "* The number of subdivisions $N$ to use for estimating the integral\n",
        "\n",
        "There are many different ways that you could implement integration using Simpson's rule (for example, see Chapter 5 of Newman's *[Computational Physics](http://www-personal.umich.edu/~mejn/cp/chapters.html)*). You are free to choose any approach that you like. If you're already comfortable with Python, you might want to try an implementation that uses numpy arrays and [vectorization](https://realpython.com/numpy-array-programming/)."
      ]
    },
    {
      "cell_type": "markdown",
      "metadata": {
        "id": "u1cd4qj9Md03",
        "colab_type": "text"
      },
      "source": [
        "### 1.a. Write the integration function\n",
        "\n",
        "Fill in the function outline below. If you're having trouble getting started, try writing out all the individual computations that need to be performed to estimate the integral. Then, code each one of them individually."
      ]
    },
    {
      "cell_type": "code",
      "metadata": {
        "id": "_bCzDnDYMd04",
        "colab_type": "code",
        "colab": {}
      },
      "source": [
        "def integrate(test_quad, lower_limit, upper_limit, N_div):\n",
        "    \"\"\"\n",
        "    Integrate the input univariate function, function_name, \n",
        "    between lower_limit and upper_limit using Simpson's rule \n",
        "    and return the result. The integral bounds will be \n",
        "    subdivided into N_div divisions to estimate the integral.\n",
        "    \"\"\"\n",
        "    \n",
        "    # Fill in your code here\n",
        "    # Step 1(find the step size)\n",
        "    dx = (upper_limit-lower_limit)/N_div  \n",
        "    # Step 2(initialize variable that holds integral value)\n",
        "    total = 0   \n",
        "    # Step 3\n",
        "    for i in range(N_div):\n",
        "      if i%2 == 0:\n",
        "        continue\n",
        "      total += (dx / 3)*(test_quad(lower_limit + (i-1)*dx) + 4 * test_quad(lower_limit + i*dx) + test_quad(lower_limit + (i+1)*dx))\n",
        "    # ...\n",
        "    return total; # Return the result here"
      ],
      "execution_count": 0,
      "outputs": []
    },
    {
      "cell_type": "markdown",
      "metadata": {
        "id": "W6r5qA55Md08",
        "colab_type": "text"
      },
      "source": [
        "### 1.b. Test the function\n",
        "\n",
        "Test your function in the cell below."
      ]
    },
    {
      "cell_type": "code",
      "metadata": {
        "id": "Mopx9oyjMd09",
        "colab_type": "code",
        "outputId": "258d7ea3-b668-42e2-a090-0ac0e6f86664",
        "colab": {
          "base_uri": "https://localhost:8080/",
          "height": 34
        }
      },
      "source": [
        "def test_quad(x):\n",
        "    return 3 * (x**2)\n",
        "\n",
        "integrate(test_quad, 0, 1, 100)"
      ],
      "execution_count": 0,
      "outputs": [
        {
          "output_type": "execute_result",
          "data": {
            "text/plain": [
              "1.0"
            ]
          },
          "metadata": {
            "tags": []
          },
          "execution_count": 18
        }
      ]
    },
    {
      "cell_type": "markdown",
      "metadata": {
        "id": "yKUQa_PGMd1C",
        "colab_type": "text"
      },
      "source": [
        "Compare your output with the analytical result here. Does it perform as expected?\n",
        "\n",
        "The result that the program gave me was 1.0\n",
        "\n",
        "The result that I got analiticaly was: $$\\int_0^1 3x^2 \\,dx= 1.0$$\n",
        "\n",
        "The computation is what was expected."
      ]
    },
    {
      "cell_type": "code",
      "metadata": {
        "id": "UJPrGyT1Md1E",
        "colab_type": "code",
        "colab": {}
      },
      "source": [
        ""
      ],
      "execution_count": 0,
      "outputs": []
    },
    {
      "cell_type": "markdown",
      "metadata": {
        "id": "bjz2hTP-Md1L",
        "colab_type": "text"
      },
      "source": [
        "## 2. Application: diffraction patterns generated by a circular aperture\n",
        "\n",
        "When might we need to perform numerical integration? Here is one example from Exercise 5.4 in Newman's [Computational Physics](http://www-personal.umich.edu/~mejn/cp/chapters.html) textbook.\n",
        "\n",
        "When light with wavelength $\\lambda$ passes through a circular aperture, as in a telescope, it doesn't produce just a single point of light in the focal plane. Rather, the light is *diffracted*, producing a central bright spot surrounded by alternating bright and dark rings. Mathematically, the intensity of the focused light is given by\n",
        "\n",
        "$$I(r) = \\frac{J_1(kr)}{kr}^2\\,,$$\n",
        "\n",
        "where $r$ is the distance from the center of the focal plane, $k = 2\\pi/\\lambda$, and $J_1$ is the order 1 [Bessel function](https://en.wikipedia.org/wiki/Bessel_function) of the first kind. For more information, follow the Wikipedia link. Bessel functions appear very frequently in physics.\n",
        "\n",
        "One way to define the Bessel functions $J_m$ is through an integral,\n",
        "\n",
        "$$ J_m(x) = \\frac{1}{\\pi}\\int_0^\\pi\\!d\\theta\\; \\cos(m\\theta - x \\sin \\theta) \\, $$ \n",
        "\n",
        "where $m$ is a nonnegative integer and $x\\geq 0$. \n",
        "\n",
        "In the rest of the exercise below, we'll write a function to evaluate the Bessel function using our integrator defined in part 1. Then we'll test it and plot the results."
      ]
    },
    {
      "cell_type": "markdown",
      "metadata": {
        "id": "t_uBOZQ8Md1M",
        "colab_type": "text"
      },
      "source": [
        "### 2.a. Write the Bessel function\n",
        "\n",
        "Write your own version of the Bessel function by filling in the cell below. We'll assume that the number of divisions is 1000."
      ]
    },
    {
      "cell_type": "code",
      "metadata": {
        "id": "mNgcZtRuMd1M",
        "colab_type": "code",
        "colab": {}
      },
      "source": [
        "import numpy as np\n",
        "def J(m, x):\n",
        "    \"\"\"\n",
        "    mth Bessel function of the first kind evaluated at real number x,  \n",
        "    calculated using an integral representation with Simpson's rule and 1000 divisions.\n",
        "    \"\"\"\n",
        "    \n",
        "    # Fill in your code here, using the integrate function you defined in part 1\n",
        "    upper_limit = np.pi      \n",
        "    lower_limit = 0\n",
        "    N_div = 1000\n",
        "    total = 0\n",
        " \n",
        "    # Remember: you'll need to evaluate sine and cosine functions, and to use the constant pi\n",
        "    # You can access these functions from numpy or the Python math library\n",
        "    \n",
        "    # You might want to define a local function for the integrand\n",
        "    def integrand(theta):\n",
        "      return np.cos(m * (theta) - x * np.sin(theta)); # Return the integrand here\n",
        "    \n",
        "    total = (1/np.pi)*integrate(integrand, lower_limit ,upper_limit,N_div)\n",
        "    return total # Return your result here\n"
      ],
      "execution_count": 0,
      "outputs": []
    },
    {
      "cell_type": "markdown",
      "metadata": {
        "id": "m2QlQccsMd1R",
        "colab_type": "text"
      },
      "source": [
        "### 2.b. Test the function\n",
        "\n",
        "Now, test your function in the cell below."
      ]
    },
    {
      "cell_type": "code",
      "metadata": {
        "id": "a9_telL4Md1R",
        "colab_type": "code",
        "outputId": "6339cf1d-6bf5-4ada-f5a5-1adcfed6dc15",
        "colab": {
          "base_uri": "https://localhost:8080/",
          "height": 34
        }
      },
      "source": [
        "print(J(1,1))"
      ],
      "execution_count": 0,
      "outputs": [
        {
          "output_type": "stream",
          "text": [
            "0.4400505857449339\n"
          ],
          "name": "stdout"
        }
      ]
    },
    {
      "cell_type": "markdown",
      "metadata": {
        "id": "mz1zgnd-Md1X",
        "colab_type": "text"
      },
      "source": [
        "How does this compare with the expected result? Let's check our answer against the builtin Bessel function evaluator in `scipy`."
      ]
    },
    {
      "cell_type": "code",
      "metadata": {
        "id": "Rz7YlqphMd1Y",
        "colab_type": "code",
        "outputId": "1acc8746-cb28-4783-ae70-0c516a91da03",
        "colab": {
          "base_uri": "https://localhost:8080/",
          "height": 34
        }
      },
      "source": [
        "import scipy.special as sp\n",
        "\n",
        "print(J(1,1) - sp.jv(1, 1))"
      ],
      "execution_count": 0,
      "outputs": [
        {
          "output_type": "stream",
          "text": [
            "3.3306690738754696e-16\n"
          ],
          "name": "stdout"
        }
      ]
    },
    {
      "cell_type": "markdown",
      "metadata": {
        "id": "E8KEFgq4Md1b",
        "colab_type": "text"
      },
      "source": [
        "### An aside \n",
        "\n",
        "Why are we implementing our own method to evaluate the Bessel function when another one already exists? As you might have guessed, this is just for practice, and practice works best when there are well-established results that you can compare with. \n",
        "\n",
        "In your own computational adventures, the first step in any problem is to **check whether someone else has already solved it first**. If a solution exists, it will almost always be better to use the existing software and build on top of it, rather than \"reinventing the wheel.\" Why? Consider the frenzied activity in the [numpy repository](https://github.com/numpy/numpy) on GitHub. Hundreds of people are working to ensure that numpy is fast and accurate. This is not a situation where a team of 1 can compete.\n",
        "\n",
        "However, in research or industry we may encounter niche problems that have not yet been solved, or where standard techniques fail. In these cases we may indeed need to start from the beginning."
      ]
    },
    {
      "cell_type": "markdown",
      "metadata": {
        "id": "KBcCmhAsMd1c",
        "colab_type": "text"
      },
      "source": [
        "### 2.c. Plot the Bessel function(s)\n",
        "\n",
        "Now, let's use our function `J(m, x)` to plot three different Bessel functions, $J_0(x)$, $J_1(x)$ and $J_2(x)$. Your job is to fill in the following code to produce these plots. The outline below uses `seaborn`, but you're also welcome to use `matplotlib` directly if you'd like.\n",
        "\n",
        "*Hint*: You can check your answers by consulting [Wikipedia](https://en.wikipedia.org/wiki/Bessel_function).\n",
        "\n",
        "*Hint*$^2$: Your function for evaluating the Bessel functions might take a little bit of time. You can potentially make it faster, and easier to use, with the `numpy.vectorize` function. For more information, look [here](https://docs.scipy.org/doc/numpy-1.15.0/reference/generated/numpy.vectorize.html). If you vectorize `J(m, x)` then it will be able to operate on entire numpy arrays at once."
      ]
    },
    {
      "cell_type": "code",
      "metadata": {
        "id": "hqqt-Qu5Md1c",
        "colab_type": "code",
        "outputId": "69729c30-d26b-4543-a947-b3649d7aab41",
        "colab": {
          "base_uri": "https://localhost:8080/",
          "height": 282
        }
      },
      "source": [
        "import seaborn as sns\n",
        "import numpy as np\n",
        "\n",
        "# x sample points\n",
        "x = np.linspace(0, 20, 200)\n",
        "\n",
        "y0 = J(0,x) # FILL THIS IN, y-values of J0(x)\n",
        "y1 = J(1,x) # FILL THIS IN, y-values of J1(x)\n",
        "y2 = J(2,x) # FILL THIS IN, y-values of J2(x)\n",
        "\n",
        "sns.lineplot(x, y0,label='$J_0(x)$')\n",
        "\n",
        "sns.lineplot(x, y1,label='$J_1(x)$')\n",
        "\n",
        "sns.lineplot(x, y2,label='$J_2(x)$')"
      ],
      "execution_count": 0,
      "outputs": [
        {
          "output_type": "execute_result",
          "data": {
            "text/plain": [
              "<matplotlib.axes._subplots.AxesSubplot at 0x7f9e86acbe48>"
            ]
          },
          "metadata": {
            "tags": []
          },
          "execution_count": 16
        },
        {
          "output_type": "display_data",
          "data": {
            "image/png": "[encoded data removed]",
            "text/plain": [
              "<Figure size 432x288 with 1 Axes>"
            ]
          },
          "metadata": {
            "tags": [],
            "needs_background": "light"
          }
        }
      ]
    }
  ]
}